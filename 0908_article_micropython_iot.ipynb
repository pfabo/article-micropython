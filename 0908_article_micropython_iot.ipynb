{
 "cells": [
  {
   "cell_type": "markdown",
   "metadata": {},
   "source": [
    "# MicroPython ako vývojová platforma pre IoT\n",
    "\n",
    "## Abstrakt\n",
    "\n",
    "V predchádzajúcom príspevku sme sa venovali inštalácii MicroPythonu na platforme STM32, teraz sa pozrieme na možnosti jeho modifikácií a rozšíreniu štandardnej implementácie, ako aj využitia pri vývoji, oživení a programovaní periférií pre IoT, tvorbu knižníc a vlastných modulov na úrovni hardware.    "
   ]
  },
  {
   "cell_type": "markdown",
   "metadata": {},
   "source": [
    "## Úvod\n",
    "\n",
    "S narastajúcim výkonom mikrokontrolérov sa v súčasnom období posúvajú možnosti ich využitia aj do oblastí, ktoré boli pred pár rokmi vyhradené výkonným počítačom alebo výpočtovým strediskám. Z relatívne jednoduchých čipov, často pozostávajúcich len z MCU a nevyhnutných periférií, primárne určených pre obsluhu a jednoduché spracovanie dát zo senzorov sa vyvinuli komplexné zariadenia obsahujúce priamo na čipe univerzálne komponenty potrebné pre tvorbu kompaktného a cenovo veľmi prijateľného systému riadenia, zberu, spracovania a transportu dát zo senzorov. Výsledkom tejto revolúcie je rozvoj technológie IoT, táto ale vyžaduje iný prístup k vývoju, ako pri implementácií klasických technológií. Podstatou prístupu je využívanie technických prostriedkov (komunikačné rozhrania, prevodníky, pamäť) v abstraktnej forme a sústredenie kreativity a pozornosti na spracovanie vlastných dát a interakciu s prostredím.        \n"
   ]
  },
  {
   "cell_type": "markdown",
   "metadata": {},
   "source": [
    "## Vývoj aplikácie na báze IoT\n",
    "\n",
    "Vývoj typickej IoT aplikácie pozostáva z dvoch častí\n",
    "\n",
    "* Vývoj spojený s obsluhou hardware - vstupných zariadení a senzorov, zobrazovacích a signalizačných prvkov a výstupných zariadení. Tento môže mať niekoľko úrovní - od jednoduchého pripojenia štandardného prvku ku normalizovanému rozhraniu (I2C, SPI, ... ) a tvorbe príslušnoho API pre jeho obsluhu až po vývoj vlastného špecializovaného senzora alebo výstupného zariadenia s firmware, komunikačným rozhraním, implementáciou a spracovaním dát a unikátnym API.  \n",
    "\n",
    "* Vývoj spojený s vlastnou aplikáciou - od jednoduchej komunikačnej aplikácie až po rozsiahly systém komunikujúci cez Internet. Pretože individuálny vývoj od základu je náročný a zdĺhavý, pre implementácie IoT aplikácií bolo v poslednom období vytvorených množstvo operačných systémov, porovnanie napr. v [1]. Typickým predstaviteľom je projekt Zephyr [2], ktorý je portovaný na viacej ako 200 platforiem, pričom pre každú platformu má implementovanú obsluhu základných periférií. Súčasťou je mikrokernel alebo nanokoernel v závislosti od výkonu zariadení, podporuje multithreading a non-preemptive a preemptive plánovač (scheduling), programovacím jazykom je C a C++. \n",
    "\n",
    "Je zrejmé, že vývoj IoT aplikácie vyžaduje tvorbu a používanie vývojových nástrojov, ktorých príprava a odladenie môže v závislosti od rozsahu trvať nezanedbateľnú dobu. Jednou z možností, ako túto etapu zjednodušiť, je použitie flexibilného univerzálneho nástroja, umožnujúceho interaktívnu prácu a testovanie jednotlivých častí IoT zariadenia. V nasledujúcej časti ukážeme možnosti využitia interpreteru jazyka Python ako vývojového prostriedku pre IoT.\n"
   ]
  },
  {
   "cell_type": "markdown",
   "metadata": {},
   "source": [
    "## MicroPython\n",
    "\n",
    "Python je všeobecne pokladaný za programovací jazyk vysokej úrovne ďaleko vzdialený od hardware, môžeme ho ale pokladať aj za vynikajúci nástroj, ktorý bude užitočný pri vývoji hardware. MicropPython [3] je prepisom referenčnej implementácie CPython jazyka Python pre mikrokontroléry. Implementácia je portovaná pre rôzne cielové platformy, je škálovateľná a open-source. O jeho popularite svedčí aj to, že na githube v súčasnej dobe existuje asi 2000 rôznych vetiev (fork) s rôznymi modifikáciami a úpravami pre rôzne vývojové a experimentálne dosky. Z aplikačného hľadiska je použitie MicroPython-u jednoduché, ako firmware sa nahrá štandardným programovacím software pre konkrétny typ mikrokontroléra do jeho flash pamäte a zvyčajne prostredníctvom emulácie sériového rozhrania komunikuje s terminálovou aplikáciu v počítači. \n",
    "\n",
    "Oblasť použitia MicroPythonu a jeho klonov môžeme rozdeliť do niekokých kategórií\n",
    "\n",
    "* Výuka a vzdelávanie, MicroPython poskytuje možnosť interaktívnej komunikácie s mikrokontrolérom v slučke REPL (Read–Eval–Print Loop). S priamym prístupom k perifériám mikrokotroléra cez akýkoľvek terminálový emulátor bez potreby písania a vysvetlovania množstva kódu potrebného na inicializáciu a elementárnu komunikáciu je možné na veľkom množstve podporovaných dosák vysvetliť študentom základné princípy zberu a spracovania dát, naviac v jednoduchom programovacom jazyku.\n",
    "\n",
    "* Vývoj a testovanie periférií a senzorov. MicroPython poskytuje odladené a vyskúšané referenčné implementácie rozhraní mikrokontrolérov, čím vývojára zbavuje potreby implementácie celej vertikálnej štruktúry spojenej s komunikáciou a riadením periférneho zariadenia. Moderné integrované periférie komunikujúce cez sériové rozhrania (I2C, SPI, CAN ...) sú riadené zápisom a čítaním hodnôt často z desiatok rôznych registrov, s individuálnym významom jednotlivých bitov a vzájomným previazaním hodnôt. Priamym interaktívnym prístupom v jednoduchom a populárnom jazyku k registrom zariadenia je možné jednoducho overiť funkciu periférií, vyvinúť a odladiť príslušný hardware a algoritmy pre riadenie a zber dát zo zariadenia. Vďaka abstrakcii hardware a univerzálnosti implementácie je možné pre vývoj využiť aj iné platformy, ako bude cieľová a to bez potreby detailnej znalosti jej programovania.\n",
    "\n",
    "* Monitorovací a konfiguračný nástroj pre komplexné aplikácie. Rozsiahle aplikácie na výkonných mikrokontroléroch a FPGA obsahujú často implementáciu nezávislých pomocných prostriedkov pre monitorovanie a nastavovanie parametrov systému, pri FPGA to býva často SW implementácia niektorého z malých mikroprocesorov (8051, Z80 ...), pomocou programu pre tieto mikroprocesory je možné sledovať a nastavovať parametre a konfiguráciu systému.  Prvé pokusy s implementáciou MicroPython-u na FPGA [4] ukazujú perspektívu daľšieho vývoja. V oblasti operačných systémov existuje experimentálny port MicroPython-u pre monitorovanie a nastavovanie parametrov kernelu Linuxu [7]. Pri mikrokontroléroch je situácia jednoduchšia, existuje priamy port MicroPython-u ako aplikácie pre projekt Zephyr [5].       "
   ]
  },
  {
   "cell_type": "markdown",
   "metadata": {},
   "source": [
    "Je zrejmé, že pri vhodnej forme návrhu zariadenia s mikrokontrolérom a pripojených periférnych zariadení môžeme dosiahnúť stav, kedy je možné jednoducho počas vývoja ako aj pri konečnej podobe IoT zariadenia vymeniť MicroPython za firmware zariadenia alebo naopak pri potrebe ďaľšieho vývoja, upgrade alebo modifikácie. Porovnanie klasickej architektúry vývojového prostredia a alternatívy s MicroPythonom je na nasledujúcom obrázku. \n",
    "\n",
    "<img src=\"./img/architektura.png\" width=600px alt=\"Architektúra vývojového prostredia\" scale=\"0.4\"/>"
   ]
  },
  {
   "cell_type": "markdown",
   "metadata": {},
   "source": [
    "## Aplikačné možnosti pri vývoji IoT na platforme STM32\n",
    "\n",
    "Možnosti použitia MicroPython-u pri vývoji IoT môžeme demonštrovať na príklade platformy mikrokontrolérov triedy STM32. Táto trieda populárnych mikrokontrolérov obsahuje široké spektrum typov líšiacich sa výkonom, pamäťou perifériami a možnosťami optimalizácie spotreby. Aj keď oficiálne nie je v distribúcii MicroPython-u platforma STM32 podporovaná, môžeme v zdrojovom kóde MicroPythonu nájsť port pre niektoré základné členy tejto platformy a vlastná kompilácia firmware pre zvolený typ mikrokontroléra je vďaka dokumentácii bez problémov. Inštalácii MicroPython-u na platforme STM32 bol venovaný predchádzajúci príspevok. \n",
    "\n",
    "## Prenositeľnosť kódu \n",
    "\n",
    "Vďaka intenzívnemu využívaniu technológie HAL (Hardware Abstraction Layer) umožnuje MicroPython prenositeľnosť kódu nielen medzi mikrokontrolérmi v rámci jednej platformy, ale aj naprieč celým spektrom zariadení, na ktorých je portovaný. V nasledujúcom jednoduchom programe sú načítané dáta z teplomera a teplotného komparátora LM92 [6] pripojeného na zbernicu I2C číslo jedna. Dáta sú načítané ako 2 Byte z TEMPERATURE REGISTER na adrese čislo 0, čip obsahuje 7 registrov pre čítanie dát a nastavenie prahových hodnôt komparátorov a hysterézy. "
   ]
  },
  {
   "cell_type": "code",
   "execution_count": null,
   "metadata": {},
   "outputs": [],
   "source": [
    "import machine\n",
    "\n",
    "def read_LM92_TR(ic, addr):\n",
    "    raw = ic.readfrom_mem(addr, 0, 2)  # nacitanie 2 byte z registra 0 \n",
    "    data = (raw[0] << 8) + raw[1]      # konverzia 16 bit format\n",
    "    td = data >> 3                     # 2'compl b15-b3 temperature\n",
    "    TEMP = (-(td & 0x1000) | (td & 0xFFF))* 0.0625       \n",
    "    L = data & 0x01                    # T_LOW  -> H, TEMP < 10 deg\n",
    "    H = (data & 0x02) >> 1             # T_HIGH -> H  TEMP > 64 deg\n",
    "    C = (data & 0x04) >> 2             # T_CRIT -> H  TEMP > 80 deg\n",
    "    return TEMP, C, H, L\n",
    "                                       # MCU STM32L432KC\n",
    "ic=machine.I2C(1)                      # init I2C interface, PA10-SDA, PA9-SCL\n",
    "print(ic.scan())                       # -> [75]  list of all devices in I2C(1)\n",
    "print(read_LM92_TR(ic, 75))            # -> (24.5625, 0, 0, 0)"
   ]
  },
  {
   "cell_type": "markdown",
   "metadata": {},
   "source": [
    "Pre skopírovanie programu do prostredia môžeme použiť skratky *CTRL+E* a *CTRL+D*. Uvedený program bude plne funkčný nielen na všetkých podporovaných mikrokontroléroch z triedy STM32, ale aj na komkoľvek zariadení, na ktoré je portovaný MikroPython a ktoré na palube obsahuje I2C rozhranie. Ak sú preto na vývoj periférneho zariadenia kladené vyššie požiadavky, môžeme samotný vývoj realizovať na procesore vyššej triedy a pre finálnu aplikáciu využiť jednoduchší procesor.\n",
    "\n",
    "## Modularita\n",
    "\n",
    "Aby nebolo potrebné po resete mikrokontroléra opakovane nehrávať časti odladeného kódu do prostredia MicroPython-u, tento umožňuje pridanie nového kódu (frozen module) ako knižnice, ktorá sa stane súčasťou firmware. Celý postup je veľmi jednoduchý a spočíva v uložení súboru s kódom knižnice v Pythone do adresáru vytvoreného adresáru *.ports/stm32/modules* a následnom skompilovaní firmware a jeho nahratí do mikrokontroléra. Knižnica je dostupná pomocou štandardneho príkazu *import*.\n",
    "\n",
    "    micropython\n",
    "     |\n",
    "     +--ports\n",
    "     |    |\n",
    "     |    +--stm32\n",
    "    ...   |    |\n",
    "         ...   +--my_modules       <--- vytvoreny adresar\n",
    "               |    |\n",
    "              ...   +--demo.py     <--- kod naseho modulu\n",
    "              \n",
    "Pri kompilácii potrebujeme zadefinovať premennú *FROZEN_DIR*. Kompilácia je rovnaká ako pri vytváraní klonu pre cielovú platformu. Po kompilácii a nahratí firmware do MCU je modul dostupný cez *import demo*. Prekročenie rozsahu pamäte Flash má za následok chybu kompilácie. \n",
    "    \n",
    "    adresar ./ports/stm32/, kompilacia pre Nucleo32 STM32L432KC\n",
    "    \n",
    "    make BOARD=NUCLEO_L432KC clean\n",
    "    make BOARD=NUCLEO_L432KC FROZEN_DIR=./my_modules\n",
    "\n",
    "Pri mikrokontroléroch s väčšou FLASH pamäťou je možné jej voľnú časť využiť ako pamäťové médium mapované ako file systém. Knižnica *os* poskytuje základné funkcie pre vytváranie adresárov a manipuláciu so súbormi. \n",
    "    \n",
    "    >>> import os\n",
    "    >>> help(os)\n",
    "    object <module 'uos'> is of type module\n",
    "      __name__ -- uos\n",
    "      uname -- <function>\n",
    "      chdir -- <function>\n",
    "      getcwd -- <function>\n",
    "      ilistdir -- <function>\n",
    "      listdir -- <function>\n",
    "      mkdir -- <function>\n",
    "      ...\n",
    "      mount -- <function>\n",
    "      umount -- <function>\n",
    "\n",
    "Súborový systém je možné rozšíriť o externé pamäťové médiá (SD-Card), podpora komunikácie s kartami je súčasťou MicroPython-u. File systém je dostupný aj mimo prostredia MicroPython-u, pomocou utility *./tools/pyboard.py* je možné do neho ukladať, mazať súbory a vyvárať adresárovú štruktúru. \n",
    "\n",
    "    usage: pyboard.py [-h] [--device DEVICE] [-b BAUDRATE] [-u USER] [-p PASSWORD]\n",
    "                      [-c COMMAND] [-w WAIT] [--follow] [-f]\n",
    "                      [files [files ...]]\n",
    "\n",
    "\n",
    "Doplňujúce argumenty pre *-f (--filesystem)*  \n",
    "\n",
    "    ls\n",
    "    ls ./adresar\n",
    "    cp ./file ./\n",
    "    rm ./file\n",
    "    rmdir addr\n",
    "    mkdir addr\n",
    "    cat ./subor   vypis suboru na terminal resp\n",
    "    cat./subor > lokalny.txt\n",
    "    \n",
    "Príklad    \n",
    "    \n",
    "    python pyboard.py -f ls\n",
    "    python pyboard.py -f cp ./test.py :\n",
    "    \n",
    "Ak sa prepíšeme resp. upravíme súbor *main.py* v koreňovom adresári tak aby obsahoval vykonateľný kód, tento sa po resete automaticky spustí.\n"
   ]
  },
  {
   "cell_type": "markdown",
   "metadata": {},
   "source": [
    "## Škálovateľnosť\n",
    "\n",
    "Elementárna verzia MikroPython-u bez knižníc má po skompilovaní veľkosť asi 20KB, pri konfigurácii pre jednotlivé platformy sa ale tvorcovia snažili optimálne využiť flash pamäte mikrokontrolérov doplnením čo najväčšieho množstva štandardných knižníc a podporou periférií. V prípade, že mikrokontrolér obsahuje väčšiu pamäť FLASH a RAM, je súčasťou firmware možnosť mapovania pamäte ako súborového systému, do ktorého je možné zaradiť aj externé pamäťové média ako je SD karta a pod. V prípade, že pri vývoji nie sú niektoré knižnice a drivery potrebné, je možné konfiguráciu firmware upraviť podľa aktuálnej potreby. MicroPython pre konfigurácou cieľového firmware pre každú platformu používa súbor *mpconfigboard.h*. Tento obsahuje premenné, pomocou ktorých vieme zaradiť alebo vyradiť z kompilácie firmware zvolené časti zdrojového kódu.   \n"
   ]
  },
  {
   "cell_type": "markdown",
   "metadata": {},
   "source": [
    "## Rozširiteľnosť\n",
    "\n",
    "Pri vývoji neštandardných periférií nemusia štandardné drivery, ktoré sú súčasťou MicroPython-u, vyhovovať a môže vzniknúť požiadavka na nízkoúrovňovú obsluhu periférie. Podobne ako pri štandardnom Pythone, je možné aj MocroPython rozširovať o natívne moduly napísané v C/C++ a ktoré môžu využívať aj systémové knižnice pre obsluhu periférií mikrokontroléra. Pre vytvorenie modulu musíme rovnako ako v štandardnom Pythone vytvoriť rozhranie medzi natívnym modulom a jeho reprezentáciou v Pythone. Detailný postup je popísaný v [10], pre vytvorenie rozhrania využíva množstvo makier a pri rozsiahlejších moduloch môže byť štruktúra značne komplikovaná.\n",
    "\n",
    "Pretože rozhranie k natívnym modulom je v značnej miere štandardizované, pre štandardný Python existujú generátory kódu, napr. SWIG, ktoré vygenerujú potrebné rozhranie na základe zdrojového kódu modulu. Pri MicroPythone sa používa opačný postup, môžeme použiť generátor rozhrania (stub), experimentálne implementácia sú napr. v [8],[9], ktorý vytvorí stub pozostávajúci z makier v C na základe deklarácie funkcie v Pythone.\n",
    "\n",
    "### Príklad 1.\n",
    "\n",
    "Príklad obsahuje jednoduchý modul, ktorý pozostáva z inicializácie a funkcie, ktorá prepína LED stanovený počet krát a s nastaviteľnou dĺžkou intervalu. Deklarácia funkcií pre vygenerovanie rozhrania má tvar:"
   ]
  },
  {
   "cell_type": "code",
   "execution_count": 1,
   "metadata": {},
   "outputs": [],
   "source": [
    "# Subor blink.py, Python 3.7\n",
    "# Deklaracie funkcii rozhrania\n",
    "\n",
    "def init()-> None:\n",
    "    \"\"\"\n",
    "    Funkcia pre inicializacia portu a nastavenie pinu s on-board LED,\n",
    "    na NUCLEO_STM32L432KC je LED pripojena na PORTB, PIN3\n",
    "    \"\"\"\n",
    "\n",
    "\n",
    "def blink(n: int, delay: int) -> None:\n",
    "    \"\"\"Blikanie LED\n",
    "    :param n: pocet bliknuti\n",
    "    :param b: delay\n",
    "    :return: None\"\"\""
   ]
  },
  {
   "cell_type": "markdown",
   "metadata": {},
   "source": [
    "Na základe tejto deklarácie vygenerujeme pomocou [9] stub, do ktorého doplníme implentáciu príslušnej funkcie. Pre vygenerovanie môžeme použiť postup uvedený v návode ku generátoru alebo môžeme použiť nasledujúci jednoduchý skript."
   ]
  },
  {
   "cell_type": "code",
   "execution_count": null,
   "metadata": {},
   "outputs": [],
   "source": [
    "# Subor gen_stub.py \n",
    "# skript pre generovanie stubb pre moduly mikropythonu podla\n",
    "# https://github.com/pazzarpj/micropython-ustubby\n",
    "import ustubby\n",
    "import sys\n",
    "\n",
    "if len(sys.argv) < 1:\n",
    "    print(\"Pouzitie: python3.7 gen_stub.py input.py > output.c\")\n",
    "    exit()\n",
    "    \n",
    "md = sys.argv[1].split(\".\")[0]\n",
    "stub = __import__(md)\n",
    "\n",
    "s = ustubby.stub_module(stub)\n",
    "print(s)"
   ]
  },
  {
   "cell_type": "markdown",
   "metadata": {},
   "source": [
    "Implementáciu vlastného kodu je možné vytvoriť pomocou HAL alebo LL, príklad časti kódu s implementáciou využívajúcou low-level knižnice STM32 je nižšie (celý kod je dostupný na gihub-e [11])"
   ]
  },
  {
   "cell_type": "code",
   "execution_count": null,
   "metadata": {},
   "outputs": [],
   "source": [
    "...\n",
    "\n",
    "STATIC mp_obj_t blink_blink(mp_obj_t n_obj, mp_obj_t delay_obj) {\n",
    "    mp_int_t n = mp_obj_get_int(n_obj);\n",
    "    mp_int_t delay = mp_obj_get_int(delay_obj);\n",
    "    \n",
    "    //Your code here\n",
    "    // -----------------------------------------------------------------\n",
    "    int i=0;\n",
    "    for(i=0; i<n; i++){\n",
    "        LL_mDelay(delay);\n",
    "        LL_GPIO_TogglePin(GPIOB, LL_GPIO_PIN_3);\n",
    "    }\n",
    "    // -----------------------------------------------------------------\n",
    "    \n",
    "    return mp_const_none;\n",
    "}\n",
    "MP_DEFINE_CONST_FUN_OBJ_2(blink_blink_obj, blink_blink);\n",
    "\n",
    "..."
   ]
  },
  {
   "cell_type": "markdown",
   "metadata": {},
   "source": [
    "Štruktúra adresárov má potom tvar\n",
    "\n",
    "\n",
    "    my_project/  \n",
    "        |\n",
    "        +-- modules/               <-- adresar modulov \n",
    "        |   +--blink/\n",
    "        |       +--blink.py        <-- zdrojovu subor pre stub generator\n",
    "        |       +--blink.c         <-- vygenerovany a doplneny zdrojovy kod\n",
    "        |       +--micropython.mk  <-- konfiguracia modulu\n",
    "        |\n",
    "        +-- micropython/           <-- originalny MicroPython\n",
    "            +--ports/              <-- porty pre platformy     \n",
    "           ...  +--stm32/          <-- adresar pre kompilaciu firmware\n",
    "              ...\n",
    "\n",
    "\n",
    "Kompilácia s použitím HAL knižníc nevyžaduje žiadne úpravy, pri kompilácii implementácie modulov s LL knižnicami musíme upraviť ./stm32/Makefile\n",
    "\n",
    "* doplniť inicializáciu príznaku USE_FULL_LL_DRIVER pre sprístupnenie LL knižníc\n",
    "* doplniť kompiláciu LL knižníc\n",
    "\n",
    "V sekcii CFLAGS doplniť\n",
    "\n",
    "    CFLAGS = $(INC) -Wall ...  \n",
    "    ...\n",
    "    CFLAGS += -DUSE_FULL_LL_DRIVER       <- doplneny flag\n",
    "    \n",
    "V sekcii SRC_HAL doplniť\n",
    "\n",
    "    SRC_HAL = $(addprefix $(HAL_DIR)/Src/stm32$(MCU_SERIES)xx_,\\\n",
    "        hal.c \\\n",
    "        ...\n",
    "        hal_uart.c \\\n",
    "        ll_gpio.c \\                     <- doplnene LL drivery bez prefixu\n",
    "        ...\n",
    "        )"
   ]
  },
  {
   "cell_type": "markdown",
   "metadata": {},
   "source": [
    "Pre kompiláciu modulu ešte musíme v adresári modulu vytvoriť súbor *micropython.mk*, v ktorom je definovaná štruktúra modulu, ktorý môže pozostávať aj z viacerých súborov.\n",
    "\n",
    "    # Subor micropython.mk\n",
    "    BLINK_MOD_DIR := $(USERMOD_DIR)\n",
    "    SRC_USERMOD += $(BLINK_MOD_DIR)/blink.c\n",
    "    CFLAGS_USERMOD += -I$(BLINK_MOD_DIR)\n",
    "    \n",
    "Spustenie kompilácie je potom rovnaké ak v predchádzajúcom prípade, v adresari *./ports/stm32/* spustíme kompiláciu firmware\n",
    "\n",
    "    make BOARD=NUCLEO_L432KC USER_C_MODULES=../../../modules CFLAGS_EXTRA=-DMODULE_BLINK_ENABLED=1 all\n",
    "\n",
    "ktorý štandardným postupom zapíšeme do pamäte mikrokontroléra. Použitie modulu v MikroPythone je rovnaké ako akejkoľvek inej knižnice"
   ]
  },
  {
   "cell_type": "code",
   "execution_count": null,
   "metadata": {},
   "outputs": [],
   "source": [
    ">>> import blink \n",
    ">>> blink.init()\n",
    ">>> blink.blink(10, 100)"
   ]
  },
  {
   "cell_type": "markdown",
   "metadata": {},
   "source": [
    "### Príklad 2.  DDS Generátor\n",
    "\n",
    "Ako príklad rozsiahlejšieho modulu ukážeme implementáciu DDS (Direct Digital Synthesis) generátora. Pre niektoré aplikácie vyžadujúce aktívny zdroj budenia je potrebné niekedy použiť zdroj harmonického signálu s variabilnou frekvenciou. Pre implementáciu použijeme jednoducho implementovateľný princíp DDS, ktorý pozostáva z premennej reprezentujúcej 32bit fázový akumulátor a 32bit premennú fázového kroku. Časť slova akumulátora je použitá ako adresa hodnoty v tabuľke hodnôt generovaného priebehu. Pre syntézu harmonického priebehu použijeme 8bit rozlíšenie DAC prevodníka s dĺžkou tabuľky 512 hodnôt. Pre prenos hodnôt z pamäte do DAC využijeme DMA prenos, tento budeme realizovať v dvoch krokoch využitím double-buffer, počas prenosu obsahu jedného buffra do DAC pripravíme inicializujeme obsah druhého. Pre riadenie prenosu je použitý základny časovač TIM6, výstup je PA4."
   ]
  },
  {
   "cell_type": "code",
   "execution_count": null,
   "metadata": {},
   "outputs": [],
   "source": [
    "# Subor dds.py pre stub generator\n",
    "# Deklaracie rozhrania pre DDS na STM32L4\n",
    "\n",
    "def init(prescaler: int, period: int, )-> None:\n",
    "    \"\"\"\n",
    "    Inicializacia DMA, TIM6, DAC a PA4 \n",
    "    :param prescaler: nastavenie preddelicky pre TIM6\n",
    "    :param period: hodnota periody TIM6 - kroku update \n",
    "    :return: None\n",
    "    \"\"\"\n",
    "\n",
    "def set(step: int) -> None:\n",
    "    \"\"\"\n",
    "    Spustenie fazy\n",
    "    :param step: inkrement fazy\n",
    "    :return: None\n",
    "    \"\"\""
   ]
  },
  {
   "cell_type": "markdown",
   "metadata": {},
   "source": [
    "Jadro DDS generátora pozostáva z funkcie, ktorá inicializuje pole s hodnotami presúvanými v DMA do DAC prevodníka rýchlosťou definovanou časovačom. Polia sú dve, počas presunu prvého sa naplní druhé a uvolní sa riadenie pre MicroPython. "
   ]
  },
  {
   "cell_type": "code",
   "execution_count": null,
   "metadata": {},
   "outputs": [],
   "source": [
    "void DMA_Update(void){                                  \n",
    "    // callback funkcia z DMA prerusenia TC (Transfer Complete)\n",
    "    \n",
    "    uint16_t index;\n",
    "    \n",
    "    LL_DMA_DisableChannel(DMA1, LL_DMA_CHANNEL_3);\n",
    "    \n",
    "    if(buffer_select == 0){                             // vyber buffra\n",
    "        LL_DMA_SetMemoryAddress (DMA1, LL_DMA_CHANNEL_3, (uint32_t) &buffer_low);\n",
    "    }\n",
    "    else{\n",
    "        LL_DMA_SetMemoryAddress (DMA1, LL_DMA_CHANNEL_3, (uint32_t) &buffer_high);\n",
    "    }\n",
    "    LL_DMA_SetDataLength(DMA1, LL_DMA_CHANNEL_3, BUFFER_SIZE);\n",
    "    LL_DMA_EnableChannel(DMA1, LL_DMA_CHANNEL_3);       // obnovenie DMA \n",
    "\n",
    "    for(index=0; index<BUFFER_SIZE; index++){           // inicializacia nasledujuceho buffra\n",
    "        phase_acc = phase_acc + phase_incr;             // DDS fazovy akumulator\n",
    "        phase_addr = (phase_acc & 0x01FF0000) >> 16;    // maska pre pole 512 poloziek tabulky - 9bit\n",
    "        if(buffer_select == 0){            \n",
    "            buffer_high[index]= (SineTable[phase_addr] * ampl) >> 8;\n",
    "        }\n",
    "        else{\n",
    "            buffer_low[index] = (SineTable[phase_addr] * ampl) >> 8;\n",
    "        }\n",
    "    }\n",
    "    buffer_select = (buffer_select==0) ? 1 : 0;\n",
    "}\n",
    "\n",
    "void DMA1_Channel3_IRQHandler(void){\n",
    "    // Interrupt handler\n",
    "    if( LL_DMA_IsActiveFlag_TC3(DMA1) !=0){                 // Transfer complete\n",
    "        DMA_Update();\n",
    "        LL_DMA_ClearFlag_TC3(DMA1);        \n",
    "    }\n",
    "    \n",
    "    if(LL_DMA_IsActiveFlag_TE3(DMA1) == 1){                 // Transfer error\n",
    "    }\n",
    "}"
   ]
  },
  {
   "cell_type": "markdown",
   "metadata": {},
   "source": [
    "Pretože veľkosť modulu je väčšia, vlastný kód je dostupný na github-e [11]. Pri kompilácii postupujeme rovnako ako v predchádzajúcom príklade\n",
    "\n",
    "    make BOARD=NUCLEO_L476RG_EXP USER_C_MODULES=../../../modules CFLAGS_EXTRA=-DMODULE_DDS_ENABLED\n",
    "\n",
    "natrafíme len na jeden problém, použitý IRQHandler je už rezervovaný v MiroPythone v súbore *.ports/stm32/dma.c*, kde ho je potrebné zakomentovať.\n",
    "\n",
    "Pri inicializácii modulu zadáme parametre preddeličky a periódu čitača, metódou set nastavujeme inkrement fázy (ladenie generátora)"
   ]
  },
  {
   "cell_type": "code",
   "execution_count": null,
   "metadata": {},
   "outputs": [],
   "source": [
    ">>> import dds\n",
    ">>> dds.init(4,50)\n",
    ">>> dds.set(0x00004000)\n",
    ">>> dds.set(0x00028000)"
   ]
  },
  {
   "cell_type": "markdown",
   "metadata": {},
   "source": [
    "Výsledný generátor nemá pochopiteľne parametre laboratórneho prístroja, na bežné aplikácie ale postačuje. Pri frekvencii hodín jadra procesora 80MHz (STM32L476RG)je generátor použiteľný do cca 150kHz s jitterom do 1Hz.\n",
    "\n",
    "<img src=\"./img/img_01.png\" width=600px alt=\"Generovane frekvencie\" scale=\"0.4\"/>\n",
    "\n",
    "Frekvenčné spektrum signálu na vystupe bez výstupného filtra ukazuje odstup druhej a tretej harmonickej na úrovni -20dB, zaradením filtra sa vlastnosti generátora pochopiteľne výrazne zlepšia.\n",
    "\n",
    "<img src=\"./img/img_02.png\" width=600px alt=\"FFT spektrum\" scale=\"0.4\"/>\n"
   ]
  },
  {
   "cell_type": "markdown",
   "metadata": {},
   "source": [
    "## Záver\n",
    "\n",
    "Aplikácia MicroPython-u na súčasných mikrokontrolérich pokytuje elegantnú podporu vývoja IoT, v ktorom je implementovaná rutinná obsluha štandarných periférií na vysokej úrovni pomocou overených a odladených knižníc a vývojárovi umožňuje sústrediť svoj tvorivý potenciál na návrh a vývoj vlastného hardware, driveru, konverzie a spracovania dát. Zaároveň ale umožňuje aj tvorbu modulov na nízkej úrovni, ktoré je možné použiť vo finálnom firmware.    \n"
   ]
  },
  {
   "cell_type": "markdown",
   "metadata": {},
   "source": [
    "## Literatúra\n",
    "\n",
    "    [1] Yousaf Bin Zikria: Internet of Things (IoT) Operating Systems Management: Opportunities, Challenges, and Solution, DOI: 10.3390/s19081793\n",
    "    Online: https://www.researchgate.net/publication/332415379_Internet_of_Things_IoT_Operating_Systems_Management_Opportunities_Challenges_and_Solution\n",
    "    \n",
    "    [2] https://www.zephyrproject.org/\n",
    "    \n",
    "    [3] http://micropython.org/\n",
    "    \n",
    "    [4] https://fupy.github.io/\n",
    "    \n",
    "    [5] https://github.com/micropython/micropython/tree/master/ports/zephyr\n",
    "    \n",
    "    [6] http://www.ti.com/lit/ds/symlink/lm92.pdf\n",
    "    \n",
    "    [7] https://medium.com/@yon.goldschmidt/running-python-in-the-linux-kernel-7cbcbd44503c\n",
    "    \n",
    "    [8] https://github.com/pazzarpj/micropython-ustubby\n",
    "\n",
    "    [9] https://github.com/SummerLife/micropython-ustubby\n",
    "    \n",
    "    [10] https://pycopy.readthedocs.io/en/latest/develop/cmodules.html#cmodules\n",
    "    \n",
    "    [11] https://github.com/pfabo/STM32-MicroPython-Modules"
   ]
  }
 ],
 "metadata": {
  "kernelspec": {
   "display_name": "Python 3",
   "language": "python",
   "name": "python3"
  },
  "language_info": {
   "codemirror_mode": {
    "name": "ipython",
    "version": 3
   },
   "file_extension": ".py",
   "mimetype": "text/x-python",
   "name": "python",
   "nbconvert_exporter": "python",
   "pygments_lexer": "ipython3",
   "version": "3.8.5"
  },
  "latex_envs": {
   "LaTeX_envs_menu_present": true,
   "autoclose": false,
   "autocomplete": true,
   "bibliofile": "biblio.bib",
   "cite_by": "apalike",
   "current_citInitial": 1,
   "eqLabelWithNumbers": true,
   "eqNumInitial": 1,
   "hotkeys": {
    "equation": "Ctrl-E",
    "itemize": "Ctrl-I"
   },
   "labels_anchors": false,
   "latex_user_defs": false,
   "report_style_numbering": false,
   "user_envs_cfg": false
  },
  "varInspector": {
   "cols": {
    "lenName": 16,
    "lenType": 16,
    "lenVar": 40
   },
   "kernels_config": {
    "python": {
     "delete_cmd_postfix": "",
     "delete_cmd_prefix": "del ",
     "library": "var_list.py",
     "varRefreshCmd": "print(var_dic_list())"
    },
    "r": {
     "delete_cmd_postfix": ") ",
     "delete_cmd_prefix": "rm(",
     "library": "var_list.r",
     "varRefreshCmd": "cat(var_dic_list()) "
    }
   },
   "types_to_exclude": [
    "module",
    "function",
    "builtin_function_or_method",
    "instance",
    "_Feature"
   ],
   "window_display": false
  }
 },
 "nbformat": 4,
 "nbformat_minor": 2
}
